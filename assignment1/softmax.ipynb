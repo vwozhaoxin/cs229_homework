{
 "cells": [
  {
   "cell_type": "markdown",
   "metadata": {},
   "source": [
    "# Softmax exercise\n",
    "\n",
    "*Complete and hand in this completed worksheet (including its outputs and any supporting code outside of the worksheet) with your assignment submission. For more details see the [assignments page](http://vision.stanford.edu/teaching/cs231n/assignments.html) on the course website.*\n",
    "\n",
    "This exercise is analogous to the SVM exercise. You will:\n",
    "\n",
    "- implement a fully-vectorized **loss function** for the Softmax classifier\n",
    "- implement the fully-vectorized expression for its **analytic gradient**\n",
    "- **check your implementation** with numerical gradient\n",
    "- use a validation set to **tune the learning rate and regularization** strength\n",
    "- **optimize** the loss function with **SGD**\n",
    "- **visualize** the final learned weights\n"
   ]
  },
  {
   "cell_type": "code",
   "execution_count": 58,
   "metadata": {},
   "outputs": [
    {
     "name": "stdout",
     "output_type": "stream",
     "text": [
      "The autoreload extension is already loaded. To reload it, use:\n",
      "  %reload_ext autoreload\n"
     ]
    }
   ],
   "source": [
    "import random\n",
    "import numpy as np\n",
    "from cs231n.data_utils import load_CIFAR10\n",
    "import matplotlib.pyplot as plt\n",
    "\n",
    "from __future__ import print_function\n",
    "\n",
    "%matplotlib inline\n",
    "plt.rcParams['figure.figsize'] = (10.0, 8.0) # set default size of plots\n",
    "plt.rcParams['image.interpolation'] = 'nearest'\n",
    "plt.rcParams['image.cmap'] = 'gray'\n",
    "\n",
    "# for auto-reloading extenrnal modules\n",
    "# see http://stackoverflow.com/questions/1907993/autoreload-of-modules-in-ipython\n",
    "%load_ext autoreload\n",
    "%autoreload 2"
   ]
  },
  {
   "cell_type": "code",
   "execution_count": 59,
   "metadata": {},
   "outputs": [
    {
     "name": "stdout",
     "output_type": "stream",
     "text": [
      "Train data shape:  (49000, 3073)\n",
      "Train labels shape:  (49000,)\n",
      "Validation data shape:  (1000, 3073)\n",
      "Validation labels shape:  (1000,)\n",
      "Test data shape:  (1000, 3073)\n",
      "Test labels shape:  (1000,)\n",
      "dev data shape:  (500, 3073)\n",
      "dev labels shape:  (500,)\n"
     ]
    }
   ],
   "source": [
    "def get_CIFAR10_data(num_training=49000, num_validation=1000, num_test=1000, num_dev=500):\n",
    "    \"\"\"\n",
    "    Load the CIFAR-10 dataset from disk and perform preprocessing to prepare\n",
    "    it for the linear classifier. These are the same steps as we used for the\n",
    "    SVM, but condensed to a single function.  \n",
    "    \"\"\"\n",
    "    # Load the raw CIFAR-10 data\n",
    "    cifar10_dir = 'cs231n/datasets/cifar-10-batches-py'\n",
    "    X_train, y_train, X_test, y_test = load_CIFAR10(cifar10_dir)\n",
    "    \n",
    "    # subsample the data\n",
    "    mask = list(range(num_training, num_training + num_validation))\n",
    "    X_val = X_train[mask]\n",
    "    y_val = y_train[mask]\n",
    "    mask = list(range(num_training))\n",
    "    X_train = X_train[mask]\n",
    "    y_train = y_train[mask]\n",
    "    mask = list(range(num_test))\n",
    "    X_test = X_test[mask]\n",
    "    y_test = y_test[mask]\n",
    "    mask = np.random.choice(num_training, num_dev, replace=False)\n",
    "    X_dev = X_train[mask]\n",
    "    y_dev = y_train[mask]\n",
    "    \n",
    "    # Preprocessing: reshape the image data into rows\n",
    "    X_train = np.reshape(X_train, (X_train.shape[0], -1))\n",
    "    X_val = np.reshape(X_val, (X_val.shape[0], -1))\n",
    "    X_test = np.reshape(X_test, (X_test.shape[0], -1))\n",
    "    X_dev = np.reshape(X_dev, (X_dev.shape[0], -1))\n",
    "    \n",
    "    # Normalize the data: subtract the mean image\n",
    "    mean_image = np.mean(X_train, axis = 0)\n",
    "    X_train -= mean_image\n",
    "    X_val -= mean_image\n",
    "    X_test -= mean_image\n",
    "    X_dev -= mean_image\n",
    "    \n",
    "    # add bias dimension and transform into columns\n",
    "    X_train = np.hstack([X_train, np.ones((X_train.shape[0], 1))])\n",
    "    X_val = np.hstack([X_val, np.ones((X_val.shape[0], 1))])\n",
    "    X_test = np.hstack([X_test, np.ones((X_test.shape[0], 1))])\n",
    "    X_dev = np.hstack([X_dev, np.ones((X_dev.shape[0], 1))])\n",
    "    \n",
    "    return X_train, y_train, X_val, y_val, X_test, y_test, X_dev, y_dev\n",
    "\n",
    "\n",
    "# Invoke the above function to get our data.\n",
    "X_train, y_train, X_val, y_val, X_test, y_test, X_dev, y_dev = get_CIFAR10_data()\n",
    "print('Train data shape: ', X_train.shape)\n",
    "print('Train labels shape: ', y_train.shape)\n",
    "print('Validation data shape: ', X_val.shape)\n",
    "print('Validation labels shape: ', y_val.shape)\n",
    "print('Test data shape: ', X_test.shape)\n",
    "print('Test labels shape: ', y_test.shape)\n",
    "print('dev data shape: ', X_dev.shape)\n",
    "print('dev labels shape: ', y_dev.shape)"
   ]
  },
  {
   "cell_type": "markdown",
   "metadata": {},
   "source": [
    "## Softmax Classifier\n",
    "\n",
    "Your code for this section will all be written inside **cs231n/classifiers/softmax.py**. \n"
   ]
  },
  {
   "cell_type": "code",
   "execution_count": 60,
   "metadata": {},
   "outputs": [
    {
     "name": "stdout",
     "output_type": "stream",
     "text": [
      "loss: 2.374160\n",
      "sanity check: 2.302585\n"
     ]
    }
   ],
   "source": [
    "# First implement the naive softmax loss function with nested loops.\n",
    "# Open the file cs231n/classifiers/softmax.py and implement the\n",
    "# softmax_loss_naive function.\n",
    "\n",
    "from cs231n.classifiers.softmax import softmax_loss_naive\n",
    "import time\n",
    "\n",
    "# Generate a random softmax weight matrix and use it to compute the loss.\n",
    "W = np.random.randn(3073, 10) * 0.0001\n",
    "loss, grad = softmax_loss_naive(W, X_dev, y_dev, 0.0)\n",
    "\n",
    "# As a rough sanity check, our loss should be something close to -log(0.1).\n",
    "print('loss: %f' % loss)\n",
    "print('sanity check: %f' % (-np.log(0.1)))"
   ]
  },
  {
   "cell_type": "markdown",
   "metadata": {},
   "source": [
    "## Inline Question 1:\n",
    "Why do we expect our loss to be close to -log(0.1)? Explain briefly.**\n",
    "\n",
    "**Your answer:** *Fill this in*\n",
    "排除正则化影响，一共有10个类，每次猜对的平均概率是1/10，多次猜测按照1/10概率代入，计算后得到损失接近于-log（0.1）"
   ]
  },
  {
   "cell_type": "code",
   "execution_count": 61,
   "metadata": {
    "scrolled": false
   },
   "outputs": [
    {
     "name": "stdout",
     "output_type": "stream",
     "text": [
      "numerical: -1.421379 analytic: -1.421379, relative error: 7.953712e-09\n",
      "numerical: -2.987869 analytic: -2.987869, relative error: 1.389456e-08\n",
      "numerical: -0.400660 analytic: -0.400660, relative error: 5.374237e-08\n",
      "numerical: 0.498341 analytic: 0.498341, relative error: 1.135826e-07\n",
      "numerical: -2.147376 analytic: -2.147376, relative error: 4.645383e-08\n",
      "numerical: -3.600116 analytic: -3.600116, relative error: 1.483386e-08\n",
      "numerical: 2.870982 analytic: 2.870982, relative error: 1.114061e-08\n",
      "numerical: 2.335508 analytic: 2.335508, relative error: 3.836169e-08\n",
      "numerical: 2.752690 analytic: 2.752690, relative error: 2.741539e-08\n",
      "numerical: 1.474120 analytic: 1.474120, relative error: 4.913151e-08\n",
      "numerical: 4.389504 analytic: 4.389504, relative error: 2.013343e-08\n",
      "numerical: -1.243272 analytic: -1.243272, relative error: 7.101580e-09\n",
      "numerical: 1.932499 analytic: 1.932499, relative error: 3.352836e-08\n",
      "numerical: 2.249632 analytic: 2.249632, relative error: 2.074775e-10\n",
      "numerical: 1.108789 analytic: 1.108789, relative error: 3.089961e-09\n",
      "numerical: 0.209808 analytic: 0.209808, relative error: 2.180366e-07\n",
      "numerical: -3.351154 analytic: -3.351154, relative error: 2.604406e-08\n",
      "numerical: 1.908079 analytic: 1.908079, relative error: 9.255217e-09\n",
      "numerical: 1.940555 analytic: 1.940555, relative error: 5.642091e-10\n",
      "numerical: 0.275275 analytic: 0.275275, relative error: 1.340264e-07\n"
     ]
    }
   ],
   "source": [
    "# Complete the implementation of softmax_loss_naive and implement a (naive)\n",
    "# version of the gradient that uses nested loops.\n",
    "loss, grad = softmax_loss_naive(W, X_dev, y_dev, 0.0)\n",
    "\n",
    "# As we did for the SVM, use numeric gradient checking as a debugging tool.\n",
    "# The numeric gradient should be close to the analytic gradient.\n",
    "from cs231n.gradient_check import grad_check_sparse\n",
    "f = lambda w: softmax_loss_naive(w, X_dev, y_dev, 0.0)[0]\n",
    "grad_numerical = grad_check_sparse(f, W, grad, 10)\n",
    "\n",
    "# similar to SVM case, do another gradient check with regularization\n",
    "loss, grad = softmax_loss_naive(W, X_dev, y_dev, 5e1)\n",
    "f = lambda w: softmax_loss_naive(w, X_dev, y_dev, 5e1)[0]\n",
    "grad_numerical = grad_check_sparse(f, W, grad, 10)"
   ]
  },
  {
   "cell_type": "code",
   "execution_count": 62,
   "metadata": {
    "scrolled": true
   },
   "outputs": [
    {
     "name": "stdout",
     "output_type": "stream",
     "text": [
      "naive loss: 2.374160e+00 computed in 0.237629s\n",
      "vectorized loss: 2.374160e+00 computed in 0.005507s\n",
      "Loss difference: 0.000000\n",
      "Gradient difference: 0.000000\n"
     ]
    }
   ],
   "source": [
    "# Now that we have a naive implementation of the softmax loss function and its gradient,\n",
    "# implement a vectorized version in softmax_loss_vectorized.\n",
    "# The two versions should compute the same results, but the vectorized version should be\n",
    "# much faster.\n",
    "tic = time.time()\n",
    "loss_naive, grad_naive = softmax_loss_naive(W, X_dev, y_dev, 0.000005)\n",
    "toc = time.time()\n",
    "print('naive loss: %e computed in %fs' % (loss_naive, toc - tic))\n",
    "\n",
    "from cs231n.classifiers.softmax import softmax_loss_vectorized\n",
    "tic = time.time()\n",
    "loss_vectorized, grad_vectorized = softmax_loss_vectorized(W, X_dev, y_dev, 0.000005)\n",
    "toc = time.time()\n",
    "print('vectorized loss: %e computed in %fs' % (loss_vectorized, toc - tic))\n",
    "\n",
    "# As we did for the SVM, we use the Frobenius norm to compare the two versions\n",
    "# of the gradient.\n",
    "grad_difference = np.linalg.norm(grad_naive - grad_vectorized, ord='fro')\n",
    "print('Loss difference: %f' % np.abs(loss_naive - loss_vectorized))\n",
    "print('Gradient difference: %f' % grad_difference)"
   ]
  },
  {
   "cell_type": "code",
   "execution_count": 68,
   "metadata": {
    "scrolled": false
   },
   "outputs": [
    {
     "name": "stdout",
     "output_type": "stream",
     "text": [
      "iteration 0 / 3000: loss 5.023801\n",
      "iteration 100 / 3000: loss 3.577177\n",
      "iteration 200 / 3000: loss 3.518620\n",
      "iteration 300 / 3000: loss 3.175609\n",
      "iteration 400 / 3000: loss 3.034342\n",
      "iteration 500 / 3000: loss 3.176106\n",
      "iteration 600 / 3000: loss 2.995561\n",
      "iteration 700 / 3000: loss 2.841863\n",
      "iteration 800 / 3000: loss 2.959594\n",
      "iteration 900 / 3000: loss 2.788535\n",
      "iteration 1000 / 3000: loss 2.658864\n",
      "iteration 1100 / 3000: loss 2.944896\n",
      "iteration 1200 / 3000: loss 2.576609\n",
      "iteration 1300 / 3000: loss 2.707444\n",
      "iteration 1400 / 3000: loss 2.696519\n",
      "iteration 1500 / 3000: loss 2.580706\n",
      "iteration 1600 / 3000: loss 2.551607\n",
      "iteration 1700 / 3000: loss 2.473673\n",
      "iteration 1800 / 3000: loss 2.522533\n",
      "iteration 1900 / 3000: loss 2.591167\n",
      "iteration 2000 / 3000: loss 2.330460\n",
      "iteration 2100 / 3000: loss 2.247791\n",
      "iteration 2200 / 3000: loss 2.600256\n",
      "iteration 2300 / 3000: loss 2.531967\n",
      "iteration 2400 / 3000: loss 2.407360\n",
      "iteration 2500 / 3000: loss 2.379538\n",
      "iteration 2600 / 3000: loss 2.390247\n",
      "iteration 2700 / 3000: loss 2.365527\n",
      "iteration 2800 / 3000: loss 2.480712\n",
      "iteration 2900 / 3000: loss 2.472165\n",
      "iteration 0 / 3000: loss 5.829223\n",
      "iteration 100 / 3000: loss 4.155994\n",
      "iteration 200 / 3000: loss 3.710829\n",
      "iteration 300 / 3000: loss 3.204384\n",
      "iteration 400 / 3000: loss 3.280983\n",
      "iteration 500 / 3000: loss 2.921930\n",
      "iteration 600 / 3000: loss 2.854478\n",
      "iteration 700 / 3000: loss 2.950793\n",
      "iteration 800 / 3000: loss 2.621766\n",
      "iteration 900 / 3000: loss 2.883987\n",
      "iteration 1000 / 3000: loss 2.816937\n",
      "iteration 1100 / 3000: loss 2.820876\n",
      "iteration 1200 / 3000: loss 2.497385\n",
      "iteration 1300 / 3000: loss 2.626247\n",
      "iteration 1400 / 3000: loss 2.700156\n",
      "iteration 1500 / 3000: loss 2.613566\n",
      "iteration 1600 / 3000: loss 2.418700\n",
      "iteration 1700 / 3000: loss 2.715329\n",
      "iteration 1800 / 3000: loss 2.490492\n",
      "iteration 1900 / 3000: loss 2.518817\n",
      "iteration 2000 / 3000: loss 2.810762\n",
      "iteration 2100 / 3000: loss 2.540640\n",
      "iteration 2200 / 3000: loss 2.469080\n",
      "iteration 2300 / 3000: loss 2.475697\n",
      "iteration 2400 / 3000: loss 2.391231\n",
      "iteration 2500 / 3000: loss 2.368501\n",
      "iteration 2600 / 3000: loss 2.457102\n",
      "iteration 2700 / 3000: loss 2.402330\n",
      "iteration 2800 / 3000: loss 2.660914\n",
      "iteration 2900 / 3000: loss 2.303257\n",
      "iteration 0 / 3000: loss 5.780359\n",
      "iteration 100 / 3000: loss 3.177583\n",
      "iteration 200 / 3000: loss 2.920935\n",
      "iteration 300 / 3000: loss 2.776481\n",
      "iteration 400 / 3000: loss 2.501044\n",
      "iteration 500 / 3000: loss 2.332268\n",
      "iteration 600 / 3000: loss 2.291594\n",
      "iteration 700 / 3000: loss 2.541109\n",
      "iteration 800 / 3000: loss 2.423802\n",
      "iteration 900 / 3000: loss 2.221572\n",
      "iteration 1000 / 3000: loss 2.059828\n",
      "iteration 1100 / 3000: loss 2.133234\n",
      "iteration 1200 / 3000: loss 2.192847\n",
      "iteration 1300 / 3000: loss 2.256376\n",
      "iteration 1400 / 3000: loss 2.171675\n",
      "iteration 1500 / 3000: loss 2.165581\n",
      "iteration 1600 / 3000: loss 2.076274\n",
      "iteration 1700 / 3000: loss 1.957445\n",
      "iteration 1800 / 3000: loss 1.944908\n",
      "iteration 1900 / 3000: loss 2.098097\n",
      "iteration 2000 / 3000: loss 1.964225\n",
      "iteration 2100 / 3000: loss 1.920859\n",
      "iteration 2200 / 3000: loss 2.067395\n",
      "iteration 2300 / 3000: loss 1.969095\n",
      "iteration 2400 / 3000: loss 2.023674\n",
      "iteration 2500 / 3000: loss 2.015792\n",
      "iteration 2600 / 3000: loss 2.088413\n",
      "iteration 2700 / 3000: loss 1.932121\n",
      "iteration 2800 / 3000: loss 2.130324\n",
      "iteration 2900 / 3000: loss 1.996117\n",
      "iteration 0 / 3000: loss 5.326722\n",
      "iteration 100 / 3000: loss 2.939199\n",
      "iteration 200 / 3000: loss 2.917247\n",
      "iteration 300 / 3000: loss 2.316561\n",
      "iteration 400 / 3000: loss 2.582259\n",
      "iteration 500 / 3000: loss 2.581859\n",
      "iteration 600 / 3000: loss 2.477147\n",
      "iteration 700 / 3000: loss 2.282439\n",
      "iteration 800 / 3000: loss 2.239388\n",
      "iteration 900 / 3000: loss 2.112633\n",
      "iteration 1000 / 3000: loss 2.151631\n",
      "iteration 1100 / 3000: loss 2.236182\n",
      "iteration 1200 / 3000: loss 2.244824\n",
      "iteration 1300 / 3000: loss 2.120494\n",
      "iteration 1400 / 3000: loss 2.069861\n",
      "iteration 1500 / 3000: loss 2.140539\n",
      "iteration 1600 / 3000: loss 2.029649\n",
      "iteration 1700 / 3000: loss 2.000264\n",
      "iteration 1800 / 3000: loss 1.910320\n",
      "iteration 1900 / 3000: loss 2.221824\n",
      "iteration 2000 / 3000: loss 2.032746\n",
      "iteration 2100 / 3000: loss 1.990594\n",
      "iteration 2200 / 3000: loss 2.215596\n",
      "iteration 2300 / 3000: loss 2.020728\n",
      "iteration 2400 / 3000: loss 2.047096\n",
      "iteration 2500 / 3000: loss 1.967061\n",
      "iteration 2600 / 3000: loss 2.048964\n",
      "iteration 2700 / 3000: loss 1.870651\n",
      "iteration 2800 / 3000: loss 2.075585\n",
      "iteration 2900 / 3000: loss 1.897854\n",
      "lr 1.000000e-07 reg 2.500000e+04 train accuracy: 0.280918 val accuracy: 0.286000\n",
      "lr 1.000000e-07 reg 5.000000e+04 train accuracy: 0.281490 val accuracy: 0.283000\n",
      "lr 5.000000e-07 reg 2.500000e+04 train accuracy: 0.346959 val accuracy: 0.351000\n",
      "lr 5.000000e-07 reg 5.000000e+04 train accuracy: 0.345878 val accuracy: 0.340000\n",
      "best validation accuracy achieved during cross-validation: 0.351000\n"
     ]
    }
   ],
   "source": [
    "# Use the validation set to tune hyperparameters (regularization strength and\n",
    "# learning rate). You should experiment with different ranges for the learning\n",
    "# rates and regularization strengths; if you are careful you should be able to\n",
    "# get a classification accuracy of over 0.35 on the validation set.\n",
    "from cs231n.classifiers import Softmax\n",
    "results = {}\n",
    "best_val = -1\n",
    "best_softmax = None\n",
    "learning_rates = [1e-7, 5e-7]\n",
    "regularization_strengths = [2.5e4, 5e4]\n",
    "\n",
    "################################################################################\n",
    "# TODO:                                                                        #\n",
    "# Use the validation set to set the learning rate and regularization strength. #\n",
    "# This should be identical to the validation that you did for the SVM; save    #\n",
    "# the best trained softmax classifer in best_softmax.                          #\n",
    "################################################################################\n",
    "for learning_rate in learning_rates:\n",
    "    for reg in regularization_strengths:\n",
    "        softmax = Softmax()\n",
    "        loss = softmax.train(X_train, y_train, learning_rate=learning_rate,reg=reg,\n",
    "                      num_iters=3000, verbose=True)\n",
    "        y_train_pred = softmax.predict(X_train)\n",
    "        y_vaild_pred = softmax.predict(X_val)\n",
    "        accuarcy_train = np.mean(y_train == y_train_pred)\n",
    "        accuarcy_vaild = np.mean(y_val == y_vaild_pred)\n",
    "        results[learning_rate, reg]=accuarcy_train,accuarcy_vaild\n",
    "        if accuarcy_vaild > best_val:\n",
    "            best_val = accuarcy_vaild\n",
    "            best_softmax = softmax    \n",
    "################################################################################\n",
    "#                              END OF YOUR CODE                                #\n",
    "################################################################################\n",
    "    \n",
    "# Print out results.\n",
    "for lr, reg in sorted(results):\n",
    "    train_accuracy, val_accuracy = results[(lr, reg)]\n",
    "    print('lr %e reg %e train accuracy: %f val accuracy: %f' % (\n",
    "                lr, reg, train_accuracy, val_accuracy))\n",
    "    \n",
    "print('best validation accuracy achieved during cross-validation: %f' % best_val)"
   ]
  },
  {
   "cell_type": "code",
   "execution_count": 64,
   "metadata": {},
   "outputs": [
    {
     "name": "stdout",
     "output_type": "stream",
     "text": [
      "softmax on raw pixels final test set accuracy: 0.308000\n"
     ]
    }
   ],
   "source": [
    "# evaluate on test set\n",
    "# Evaluate the best softmax on test set\n",
    "y_test_pred = best_softmax.predict(X_test)\n",
    "test_accuracy = np.mean(y_test == y_test_pred)\n",
    "print('softmax on raw pixels final test set accuracy: %f' % (test_accuracy, ))"
   ]
  },
  {
   "cell_type": "code",
   "execution_count": 65,
   "metadata": {},
   "outputs": [
    {
     "data": {
      "image/png": "[encoded data removed]",
      "text/plain": [
       "<matplotlib.figure.Figure at 0x1d500d71ba8>"
      ]
     },
     "metadata": {},
     "output_type": "display_data"
    }
   ],
   "source": [
    "# Visualize the learned weights for each class\n",
    "w = best_softmax.W[:-1,:] # strip out the bias\n",
    "w = w.reshape(32, 32, 3, 10)\n",
    "\n",
    "w_min, w_max = np.min(w), np.max(w)\n",
    "\n",
    "classes = ['plane', 'car', 'bird', 'cat', 'deer', 'dog', 'frog', 'horse', 'ship', 'truck']\n",
    "for i in range(10):\n",
    "    plt.subplot(2, 5, i + 1)\n",
    "    \n",
    "    # Rescale the weights to be between 0 and 255\n",
    "    wimg = 255.0 * (w[:, :, :, i].squeeze() - w_min) / (w_max - w_min)\n",
    "    plt.imshow(wimg.astype('uint8'))\n",
    "    plt.axis('off')\n",
    "    plt.title(classes[i])"
   ]
  },
  {
   "cell_type": "code",
   "execution_count": null,
   "metadata": {},
   "outputs": [],
   "source": []
  }
 ],
 "metadata": {
  "kernelspec": {
   "display_name": "Python 3",
   "language": "python",
   "name": "python3"
  },
  "language_info": {
   "codemirror_mode": {
    "name": "ipython",
    "version": 3
   },
   "file_extension": ".py",
   "mimetype": "text/x-python",
   "name": "python",
   "nbconvert_exporter": "python",
   "pygments_lexer": "ipython3",
   "version": "3.6.3"
  }
 },
 "nbformat": 4,
 "nbformat_minor": 1
}
